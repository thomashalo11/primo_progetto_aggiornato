{
 "cells": [
  {
   "cell_type": "code",
   "execution_count": null,
   "metadata": {},
   "outputs": [],
   "source": [
    "def parse(data, key1, valore):\n",
    "  for oggetto in data:\n",
    "    print()\n",
    "    #print(oggetto, type(oggetto))\n",
    "    for key, value in oggetto.items():\n",
    "      #print(key, value)\n",
    "      if key1 == key and value == valore:\n",
    "        print(oggetto['name'])"
   ]
  },
  {
   "cell_type": "markdown",
   "metadata": {},
   "source": [
    "Ovviamente in base al file, cambiano i valori"
   ]
  }
 ],
 "metadata": {
  "language_info": {
   "name": "python"
  }
 },
 "nbformat": 4,
 "nbformat_minor": 2
}
